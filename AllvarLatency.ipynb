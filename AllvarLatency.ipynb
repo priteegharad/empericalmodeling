{
  "nbformat": 4,
  "nbformat_minor": 0,
  "metadata": {
    "colab": {
      "name": "AllvarLatency.ipynb",
      "provenance": [],
      "collapsed_sections": []
    },
    "kernelspec": {
      "name": "python3",
      "display_name": "Python 3"
    },
    "language_info": {
      "name": "python"
    }
  },
  "cells": [
    {
      "cell_type": "code",
      "execution_count": null,
      "metadata": {
        "id": "4Ps7Xc_KvKOd"
      },
      "outputs": [],
      "source": [
        "import pandas as pd\n",
        "import numpy as np\n",
        "import seaborn as sns\n",
        "import matplotlib.pyplot as plt\n",
        "from scipy.stats.mstats import winsorize\n"
      ]
    },
    {
      "cell_type": "code",
      "source": [
        "Data = pd.read_csv('data.csv')\n",
        "Data.describe()"
      ],
      "metadata": {
        "colab": {
          "base_uri": "https://localhost:8080/",
          "height": 361
        },
        "id": "rUXezVX2vXPM",
        "outputId": "ede4e567-26d8-4fe0-add4-18bec5866d1d"
      },
      "execution_count": null,
      "outputs": [
        {
          "output_type": "execute_result",
          "data": {
            "text/plain": [
              "                cpu           mem          dwps         drbps       numfile  \\\n",
              "count  15866.000000  15866.000000  15866.000000  15866.000000  15866.000000   \n",
              "mean       2.017900    630.833228     75.049792     76.234716    474.272028   \n",
              "std        1.333486    643.285589     52.111187     52.877170    334.531941   \n",
              "min        1.000000    100.000000     10.000000     10.000000    100.000000   \n",
              "25%        1.000000    100.000000     10.000000     10.000000    100.000000   \n",
              "50%        1.000000    500.000000     50.000000     50.000000    300.000000   \n",
              "75%        4.000000   1000.000000    100.000000    100.000000    500.000000   \n",
              "max        4.000000   2000.000000    150.000000    150.000000   1000.000000   \n",
              "\n",
              "         meanwidths  numofthreads        iosize     Throughput       Latency  \n",
              "count  15866.000000  15866.000000  15866.000000   15866.000000  15866.000000  \n",
              "mean      47.466910      2.333039      5.999622  301300.011098      0.004169  \n",
              "std       33.433326      1.247202      2.944020  119626.100736      0.003253  \n",
              "min       10.000000      1.000000      3.000000   55844.901000      0.001000  \n",
              "25%       10.000000      1.000000      3.000000  235603.865000      0.002000  \n",
              "50%       30.000000      2.000000      5.000000  263210.211500      0.003000  \n",
              "75%       50.000000      4.000000     10.000000  299032.266500      0.005000  \n",
              "max      100.000000      4.000000     10.000000  689499.369000      0.054000  "
            ],
            "text/html": [
              "\n",
              "  <div id=\"df-babdc206-8424-40ce-b60b-bb04ae5ae277\">\n",
              "    <div class=\"colab-df-container\">\n",
              "      <div>\n",
              "<style scoped>\n",
              "    .dataframe tbody tr th:only-of-type {\n",
              "        vertical-align: middle;\n",
              "    }\n",
              "\n",
              "    .dataframe tbody tr th {\n",
              "        vertical-align: top;\n",
              "    }\n",
              "\n",
              "    .dataframe thead th {\n",
              "        text-align: right;\n",
              "    }\n",
              "</style>\n",
              "<table border=\"1\" class=\"dataframe\">\n",
              "  <thead>\n",
              "    <tr style=\"text-align: right;\">\n",
              "      <th></th>\n",
              "      <th>cpu</th>\n",
              "      <th>mem</th>\n",
              "      <th>dwps</th>\n",
              "      <th>drbps</th>\n",
              "      <th>numfile</th>\n",
              "      <th>meanwidths</th>\n",
              "      <th>numofthreads</th>\n",
              "      <th>iosize</th>\n",
              "      <th>Throughput</th>\n",
              "      <th>Latency</th>\n",
              "    </tr>\n",
              "  </thead>\n",
              "  <tbody>\n",
              "    <tr>\n",
              "      <th>count</th>\n",
              "      <td>15866.000000</td>\n",
              "      <td>15866.000000</td>\n",
              "      <td>15866.000000</td>\n",
              "      <td>15866.000000</td>\n",
              "      <td>15866.000000</td>\n",
              "      <td>15866.000000</td>\n",
              "      <td>15866.000000</td>\n",
              "      <td>15866.000000</td>\n",
              "      <td>15866.000000</td>\n",
              "      <td>15866.000000</td>\n",
              "    </tr>\n",
              "    <tr>\n",
              "      <th>mean</th>\n",
              "      <td>2.017900</td>\n",
              "      <td>630.833228</td>\n",
              "      <td>75.049792</td>\n",
              "      <td>76.234716</td>\n",
              "      <td>474.272028</td>\n",
              "      <td>47.466910</td>\n",
              "      <td>2.333039</td>\n",
              "      <td>5.999622</td>\n",
              "      <td>301300.011098</td>\n",
              "      <td>0.004169</td>\n",
              "    </tr>\n",
              "    <tr>\n",
              "      <th>std</th>\n",
              "      <td>1.333486</td>\n",
              "      <td>643.285589</td>\n",
              "      <td>52.111187</td>\n",
              "      <td>52.877170</td>\n",
              "      <td>334.531941</td>\n",
              "      <td>33.433326</td>\n",
              "      <td>1.247202</td>\n",
              "      <td>2.944020</td>\n",
              "      <td>119626.100736</td>\n",
              "      <td>0.003253</td>\n",
              "    </tr>\n",
              "    <tr>\n",
              "      <th>min</th>\n",
              "      <td>1.000000</td>\n",
              "      <td>100.000000</td>\n",
              "      <td>10.000000</td>\n",
              "      <td>10.000000</td>\n",
              "      <td>100.000000</td>\n",
              "      <td>10.000000</td>\n",
              "      <td>1.000000</td>\n",
              "      <td>3.000000</td>\n",
              "      <td>55844.901000</td>\n",
              "      <td>0.001000</td>\n",
              "    </tr>\n",
              "    <tr>\n",
              "      <th>25%</th>\n",
              "      <td>1.000000</td>\n",
              "      <td>100.000000</td>\n",
              "      <td>10.000000</td>\n",
              "      <td>10.000000</td>\n",
              "      <td>100.000000</td>\n",
              "      <td>10.000000</td>\n",
              "      <td>1.000000</td>\n",
              "      <td>3.000000</td>\n",
              "      <td>235603.865000</td>\n",
              "      <td>0.002000</td>\n",
              "    </tr>\n",
              "    <tr>\n",
              "      <th>50%</th>\n",
              "      <td>1.000000</td>\n",
              "      <td>500.000000</td>\n",
              "      <td>50.000000</td>\n",
              "      <td>50.000000</td>\n",
              "      <td>300.000000</td>\n",
              "      <td>30.000000</td>\n",
              "      <td>2.000000</td>\n",
              "      <td>5.000000</td>\n",
              "      <td>263210.211500</td>\n",
              "      <td>0.003000</td>\n",
              "    </tr>\n",
              "    <tr>\n",
              "      <th>75%</th>\n",
              "      <td>4.000000</td>\n",
              "      <td>1000.000000</td>\n",
              "      <td>100.000000</td>\n",
              "      <td>100.000000</td>\n",
              "      <td>500.000000</td>\n",
              "      <td>50.000000</td>\n",
              "      <td>4.000000</td>\n",
              "      <td>10.000000</td>\n",
              "      <td>299032.266500</td>\n",
              "      <td>0.005000</td>\n",
              "    </tr>\n",
              "    <tr>\n",
              "      <th>max</th>\n",
              "      <td>4.000000</td>\n",
              "      <td>2000.000000</td>\n",
              "      <td>150.000000</td>\n",
              "      <td>150.000000</td>\n",
              "      <td>1000.000000</td>\n",
              "      <td>100.000000</td>\n",
              "      <td>4.000000</td>\n",
              "      <td>10.000000</td>\n",
              "      <td>689499.369000</td>\n",
              "      <td>0.054000</td>\n",
              "    </tr>\n",
              "  </tbody>\n",
              "</table>\n",
              "</div>\n",
              "      <button class=\"colab-df-convert\" onclick=\"convertToInteractive('df-babdc206-8424-40ce-b60b-bb04ae5ae277')\"\n",
              "              title=\"Convert this dataframe to an interactive table.\"\n",
              "              style=\"display:none;\">\n",
              "        \n",
              "  <svg xmlns=\"http://www.w3.org/2000/svg\" height=\"24px\"viewBox=\"0 0 24 24\"\n",
              "       width=\"24px\">\n",
              "    <path d=\"M0 0h24v24H0V0z\" fill=\"none\"/>\n",
              "    <path d=\"M18.56 5.44l.94 2.06.94-2.06 2.06-.94-2.06-.94-.94-2.06-.94 2.06-2.06.94zm-11 1L8.5 8.5l.94-2.06 2.06-.94-2.06-.94L8.5 2.5l-.94 2.06-2.06.94zm10 10l.94 2.06.94-2.06 2.06-.94-2.06-.94-.94-2.06-.94 2.06-2.06.94z\"/><path d=\"M17.41 7.96l-1.37-1.37c-.4-.4-.92-.59-1.43-.59-.52 0-1.04.2-1.43.59L10.3 9.45l-7.72 7.72c-.78.78-.78 2.05 0 2.83L4 21.41c.39.39.9.59 1.41.59.51 0 1.02-.2 1.41-.59l7.78-7.78 2.81-2.81c.8-.78.8-2.07 0-2.86zM5.41 20L4 18.59l7.72-7.72 1.47 1.35L5.41 20z\"/>\n",
              "  </svg>\n",
              "      </button>\n",
              "      \n",
              "  <style>\n",
              "    .colab-df-container {\n",
              "      display:flex;\n",
              "      flex-wrap:wrap;\n",
              "      gap: 12px;\n",
              "    }\n",
              "\n",
              "    .colab-df-convert {\n",
              "      background-color: #E8F0FE;\n",
              "      border: none;\n",
              "      border-radius: 50%;\n",
              "      cursor: pointer;\n",
              "      display: none;\n",
              "      fill: #1967D2;\n",
              "      height: 32px;\n",
              "      padding: 0 0 0 0;\n",
              "      width: 32px;\n",
              "    }\n",
              "\n",
              "    .colab-df-convert:hover {\n",
              "      background-color: #E2EBFA;\n",
              "      box-shadow: 0px 1px 2px rgba(60, 64, 67, 0.3), 0px 1px 3px 1px rgba(60, 64, 67, 0.15);\n",
              "      fill: #174EA6;\n",
              "    }\n",
              "\n",
              "    [theme=dark] .colab-df-convert {\n",
              "      background-color: #3B4455;\n",
              "      fill: #D2E3FC;\n",
              "    }\n",
              "\n",
              "    [theme=dark] .colab-df-convert:hover {\n",
              "      background-color: #434B5C;\n",
              "      box-shadow: 0px 1px 3px 1px rgba(0, 0, 0, 0.15);\n",
              "      filter: drop-shadow(0px 1px 2px rgba(0, 0, 0, 0.3));\n",
              "      fill: #FFFFFF;\n",
              "    }\n",
              "  </style>\n",
              "\n",
              "      <script>\n",
              "        const buttonEl =\n",
              "          document.querySelector('#df-babdc206-8424-40ce-b60b-bb04ae5ae277 button.colab-df-convert');\n",
              "        buttonEl.style.display =\n",
              "          google.colab.kernel.accessAllowed ? 'block' : 'none';\n",
              "\n",
              "        async function convertToInteractive(key) {\n",
              "          const element = document.querySelector('#df-babdc206-8424-40ce-b60b-bb04ae5ae277');\n",
              "          const dataTable =\n",
              "            await google.colab.kernel.invokeFunction('convertToInteractive',\n",
              "                                                     [key], {});\n",
              "          if (!dataTable) return;\n",
              "\n",
              "          const docLinkHtml = 'Like what you see? Visit the ' +\n",
              "            '<a target=\"_blank\" href=https://colab.research.google.com/notebooks/data_table.ipynb>data table notebook</a>'\n",
              "            + ' to learn more about interactive tables.';\n",
              "          element.innerHTML = '';\n",
              "          dataTable['output_type'] = 'display_data';\n",
              "          await google.colab.output.renderOutput(dataTable, element);\n",
              "          const docLink = document.createElement('div');\n",
              "          docLink.innerHTML = docLinkHtml;\n",
              "          element.appendChild(docLink);\n",
              "        }\n",
              "      </script>\n",
              "    </div>\n",
              "  </div>\n",
              "  "
            ]
          },
          "metadata": {},
          "execution_count": 26
        }
      ]
    },
    {
      "cell_type": "code",
      "source": [
        "X = Data.iloc[:,0:8]  #Input Parameters\n",
        "y = Data.iloc[:,-1]    #Latency \n"
      ],
      "metadata": {
        "id": "Dq6XgkbWvh5g"
      },
      "execution_count": null,
      "outputs": []
    },
    {
      "cell_type": "code",
      "source": [
        "fig = plt.figure(figsize=(10,7))\n",
        "fig.add_subplot(2,1,1)\n",
        "sns.distplot(Data['Latency'])\n",
        "fig.add_subplot(2,1,2)\n",
        "sns.boxplot(Data['Latency'])\n",
        "plt.tight_layout()\n",
        "plt.savefig('LatencyDist.png')"
      ],
      "metadata": {
        "colab": {
          "base_uri": "https://localhost:8080/",
          "height": 601
        },
        "id": "GPeC8524l7QK",
        "outputId": "bab22d53-3e4e-4781-bec1-6b8a93a345e2"
      },
      "execution_count": null,
      "outputs": [
        {
          "output_type": "stream",
          "name": "stderr",
          "text": [
            "/usr/local/lib/python3.7/dist-packages/seaborn/distributions.py:2619: FutureWarning: `distplot` is a deprecated function and will be removed in a future version. Please adapt your code to use either `displot` (a figure-level function with similar flexibility) or `histplot` (an axes-level function for histograms).\n",
            "  warnings.warn(msg, FutureWarning)\n",
            "/usr/local/lib/python3.7/dist-packages/seaborn/_decorators.py:43: FutureWarning: Pass the following variable as a keyword arg: x. From version 0.12, the only valid positional argument will be `data`, and passing other arguments without an explicit keyword will result in an error or misinterpretation.\n",
            "  FutureWarning\n"
          ]
        },
        {
          "output_type": "display_data",
          "data": {
            "text/plain": [
              "<Figure size 720x504 with 2 Axes>"
            ],
            "image/png": "[encoded data removed]"
          },
          "metadata": {
            "needs_background": "light"
          }
        }
      ]
    },
    {
      "cell_type": "markdown",
      "source": [
        ""
      ],
      "metadata": {
        "id": "hXFm-QtVlzdU"
      }
    },
    {
      "cell_type": "code",
      "source": [
        "from sklearn.feature_selection import SelectKBest,mutual_info_regression\n",
        "#apply SelectKBest class to extract top 8 best features\n",
        "bestfeatures = SelectKBest(mutual_info_regression, k=8)\n",
        "fit = bestfeatures.fit(X,y)\n",
        "dfscores = pd.DataFrame(fit.scores_)\n",
        "dfcolumns = pd.DataFrame(X.columns)\n",
        "#concat two dataframes for better visualization \n",
        "featureScores = pd.concat([dfcolumns,dfscores],axis=1)\n",
        "featureScores.columns = ['Specs','Score']  #naming the dataframe columns\n",
        "print(featureScores.nlargest(8,'Score'))  #print 8 best features\n"
      ],
      "metadata": {
        "colab": {
          "base_uri": "https://localhost:8080/"
        },
        "id": "aD7XbCR2wH4O",
        "outputId": "a1e1b501-4cbf-41a1-d230-a184753a118d"
      },
      "execution_count": null,
      "outputs": [
        {
          "output_type": "stream",
          "name": "stdout",
          "text": [
            "          Specs     Score\n",
            "0           cpu  0.175970\n",
            "6  numofthreads  0.140626\n",
            "1           mem  0.071592\n",
            "5    meanwidths  0.009013\n",
            "2          dwps  0.005895\n",
            "4       numfile  0.005032\n",
            "7        iosize  0.002420\n",
            "3         drbps  0.000000\n"
          ]
        }
      ]
    },
    {
      "cell_type": "code",
      "source": [
        "fig = plt.figure(figsize=(16,5))\n",
        "fig.add_subplot(3,2,1)\n",
        "sns.scatterplot(Data['cpu'], Data['Latency'])\n",
        "fig.add_subplot(3,2,2)\n",
        "sns.scatterplot(Data['mem'],Data['Latency'])\n",
        "fig.add_subplot(3,2,3)\n",
        "sns.scatterplot(Data['numofthreads'],Data['Latency'])\n",
        "fig.add_subplot(3,2,4)\n",
        "sns.scatterplot(Data['meanwidths'], Data['Latency'])\n",
        "fig.add_subplot(3,2,5)\n",
        "sns.scatterplot(Data['drbps'],Data['Latency'])\n",
        "fig.add_subplot(3,2,6)\n",
        "sns.scatterplot(Data['numfile'],Data['Latency'])\n",
        "fig.tight_layout() \n",
        "fig.savefig('LatencyvsAll.png')"
      ],
      "metadata": {
        "colab": {
          "base_uri": "https://localhost:8080/",
          "height": 541
        },
        "id": "VWLU3DjKwVpu",
        "outputId": "de2616a2-1712-4b14-962d-0055184b6af7"
      },
      "execution_count": null,
      "outputs": [
        {
          "output_type": "stream",
          "name": "stderr",
          "text": [
            "/usr/local/lib/python3.7/dist-packages/seaborn/_decorators.py:43: FutureWarning: Pass the following variables as keyword args: x, y. From version 0.12, the only valid positional argument will be `data`, and passing other arguments without an explicit keyword will result in an error or misinterpretation.\n",
            "  FutureWarning\n",
            "/usr/local/lib/python3.7/dist-packages/seaborn/_decorators.py:43: FutureWarning: Pass the following variables as keyword args: x, y. From version 0.12, the only valid positional argument will be `data`, and passing other arguments without an explicit keyword will result in an error or misinterpretation.\n",
            "  FutureWarning\n",
            "/usr/local/lib/python3.7/dist-packages/seaborn/_decorators.py:43: FutureWarning: Pass the following variables as keyword args: x, y. From version 0.12, the only valid positional argument will be `data`, and passing other arguments without an explicit keyword will result in an error or misinterpretation.\n",
            "  FutureWarning\n",
            "/usr/local/lib/python3.7/dist-packages/seaborn/_decorators.py:43: FutureWarning: Pass the following variables as keyword args: x, y. From version 0.12, the only valid positional argument will be `data`, and passing other arguments without an explicit keyword will result in an error or misinterpretation.\n",
            "  FutureWarning\n",
            "/usr/local/lib/python3.7/dist-packages/seaborn/_decorators.py:43: FutureWarning: Pass the following variables as keyword args: x, y. From version 0.12, the only valid positional argument will be `data`, and passing other arguments without an explicit keyword will result in an error or misinterpretation.\n",
            "  FutureWarning\n",
            "/usr/local/lib/python3.7/dist-packages/seaborn/_decorators.py:43: FutureWarning: Pass the following variables as keyword args: x, y. From version 0.12, the only valid positional argument will be `data`, and passing other arguments without an explicit keyword will result in an error or misinterpretation.\n",
            "  FutureWarning\n"
          ]
        },
        {
          "output_type": "display_data",
          "data": {
            "text/plain": [
              "<Figure size 1152x360 with 6 Axes>"
            ],
            "image/png": "[encoded data removed]"
          },
          "metadata": {
            "needs_background": "light"
          }
        }
      ]
    },
    {
      "cell_type": "code",
      "source": [
        "X.shape"
      ],
      "metadata": {
        "id": "uZYC55j0wvfB",
        "colab": {
          "base_uri": "https://localhost:8080/"
        },
        "outputId": "56a5f34d-3b70-45ca-a5b8-f1d86212156c"
      },
      "execution_count": null,
      "outputs": [
        {
          "output_type": "execute_result",
          "data": {
            "text/plain": [
              "(15866, 8)"
            ]
          },
          "metadata": {},
          "execution_count": 7
        }
      ]
    },
    {
      "cell_type": "code",
      "source": [
        "from sklearn.model_selection import train_test_split\n",
        "X_train, X_test, y_train, y_test = train_test_split(X, y, test_size=0.33, random_state=101)"
      ],
      "metadata": {
        "id": "qixla-utw9nf"
      },
      "execution_count": null,
      "outputs": []
    },
    {
      "cell_type": "code",
      "source": [
        "from sklearn.linear_model import LinearRegression\n",
        "regressor = LinearRegression()  \n",
        "regressor.fit(X_train, y_train)"
      ],
      "metadata": {
        "colab": {
          "base_uri": "https://localhost:8080/"
        },
        "id": "kMYFoi9BxBhv",
        "outputId": "cdbe1910-e440-4c0e-b3a5-652f2ed4ea0d"
      },
      "execution_count": null,
      "outputs": [
        {
          "output_type": "execute_result",
          "data": {
            "text/plain": [
              "LinearRegression()"
            ]
          },
          "metadata": {},
          "execution_count": 9
        }
      ]
    },
    {
      "cell_type": "code",
      "source": [
        "r2_score = regressor.score(X_test,y_test)\n",
        "print(r2_score*100,'%')\n"
      ],
      "metadata": {
        "colab": {
          "base_uri": "https://localhost:8080/"
        },
        "id": "1BOzbV4jxE7t",
        "outputId": "6114470c-3411-408b-ebb9-4326f8509523"
      },
      "execution_count": null,
      "outputs": [
        {
          "output_type": "stream",
          "name": "stdout",
          "text": [
            "29.359571691950535 %\n"
          ]
        }
      ]
    },
    {
      "cell_type": "code",
      "source": [
        "print(regressor.intercept_)\n",
        "print(regressor.coef_)"
      ],
      "metadata": {
        "colab": {
          "base_uri": "https://localhost:8080/"
        },
        "id": "Fokik38oxNsa",
        "outputId": "209e624a-7817-4fea-c0c7-7e04237727f7"
      },
      "execution_count": null,
      "outputs": [
        {
          "output_type": "stream",
          "name": "stdout",
          "text": [
            "0.0060810904386210535\n",
            "[-1.13547719e-03 -1.68283757e-06 -2.50230114e-06 -1.40374066e-06\n",
            " -1.16949952e-07  1.47505084e-06  7.42250093e-04  2.43598080e-07]\n"
          ]
        }
      ]
    },
    {
      "cell_type": "code",
      "source": [
        "y_pred = regressor.predict(X_test)"
      ],
      "metadata": {
        "id": "YMdm2m7BxRFE"
      },
      "execution_count": null,
      "outputs": []
    },
    {
      "cell_type": "code",
      "source": [
        "y_pred = regressor.predict(X_test)\n",
        "df = pd.DataFrame({'Actual': y_test, 'Predicted': y_pred})\n",
        "df.to_csv('LRLatencyAll.csv')\n",
        "df1 = df.head(10)\n",
        "df1"
      ],
      "metadata": {
        "colab": {
          "base_uri": "https://localhost:8080/",
          "height": 359
        },
        "id": "ZYfSvRmDxc8L",
        "outputId": "81232bcc-d6fe-4eda-e64d-c2bd018034eb"
      },
      "execution_count": null,
      "outputs": [
        {
          "output_type": "execute_result",
          "data": {
            "text/plain": [
              "       Actual  Predicted\n",
              "920     0.008   0.005295\n",
              "5034    0.003   0.004613\n",
              "8617    0.003   0.002532\n",
              "15818   0.002   0.001318\n",
              "10884   0.006   0.004652\n",
              "13959   0.004   0.003523\n",
              "3864    0.003   0.005126\n",
              "13615   0.002   0.003581\n",
              "356     0.019   0.006211\n",
              "11545   0.002   0.004206"
            ],
            "text/html": [
              "\n",
              "  <div id=\"df-7bb7b53a-3bb5-4b83-bbc2-ac505828c285\">\n",
              "    <div class=\"colab-df-container\">\n",
              "      <div>\n",
              "<style scoped>\n",
              "    .dataframe tbody tr th:only-of-type {\n",
              "        vertical-align: middle;\n",
              "    }\n",
              "\n",
              "    .dataframe tbody tr th {\n",
              "        vertical-align: top;\n",
              "    }\n",
              "\n",
              "    .dataframe thead th {\n",
              "        text-align: right;\n",
              "    }\n",
              "</style>\n",
              "<table border=\"1\" class=\"dataframe\">\n",
              "  <thead>\n",
              "    <tr style=\"text-align: right;\">\n",
              "      <th></th>\n",
              "      <th>Actual</th>\n",
              "      <th>Predicted</th>\n",
              "    </tr>\n",
              "  </thead>\n",
              "  <tbody>\n",
              "    <tr>\n",
              "      <th>920</th>\n",
              "      <td>0.008</td>\n",
              "      <td>0.005295</td>\n",
              "    </tr>\n",
              "    <tr>\n",
              "      <th>5034</th>\n",
              "      <td>0.003</td>\n",
              "      <td>0.004613</td>\n",
              "    </tr>\n",
              "    <tr>\n",
              "      <th>8617</th>\n",
              "      <td>0.003</td>\n",
              "      <td>0.002532</td>\n",
              "    </tr>\n",
              "    <tr>\n",
              "      <th>15818</th>\n",
              "      <td>0.002</td>\n",
              "      <td>0.001318</td>\n",
              "    </tr>\n",
              "    <tr>\n",
              "      <th>10884</th>\n",
              "      <td>0.006</td>\n",
              "      <td>0.004652</td>\n",
              "    </tr>\n",
              "    <tr>\n",
              "      <th>13959</th>\n",
              "      <td>0.004</td>\n",
              "      <td>0.003523</td>\n",
              "    </tr>\n",
              "    <tr>\n",
              "      <th>3864</th>\n",
              "      <td>0.003</td>\n",
              "      <td>0.005126</td>\n",
              "    </tr>\n",
              "    <tr>\n",
              "      <th>13615</th>\n",
              "      <td>0.002</td>\n",
              "      <td>0.003581</td>\n",
              "    </tr>\n",
              "    <tr>\n",
              "      <th>356</th>\n",
              "      <td>0.019</td>\n",
              "      <td>0.006211</td>\n",
              "    </tr>\n",
              "    <tr>\n",
              "      <th>11545</th>\n",
              "      <td>0.002</td>\n",
              "      <td>0.004206</td>\n",
              "    </tr>\n",
              "  </tbody>\n",
              "</table>\n",
              "</div>\n",
              "      <button class=\"colab-df-convert\" onclick=\"convertToInteractive('df-7bb7b53a-3bb5-4b83-bbc2-ac505828c285')\"\n",
              "              title=\"Convert this dataframe to an interactive table.\"\n",
              "              style=\"display:none;\">\n",
              "        \n",
              "  <svg xmlns=\"http://www.w3.org/2000/svg\" height=\"24px\"viewBox=\"0 0 24 24\"\n",
              "       width=\"24px\">\n",
              "    <path d=\"M0 0h24v24H0V0z\" fill=\"none\"/>\n",
              "    <path d=\"M18.56 5.44l.94 2.06.94-2.06 2.06-.94-2.06-.94-.94-2.06-.94 2.06-2.06.94zm-11 1L8.5 8.5l.94-2.06 2.06-.94-2.06-.94L8.5 2.5l-.94 2.06-2.06.94zm10 10l.94 2.06.94-2.06 2.06-.94-2.06-.94-.94-2.06-.94 2.06-2.06.94z\"/><path d=\"M17.41 7.96l-1.37-1.37c-.4-.4-.92-.59-1.43-.59-.52 0-1.04.2-1.43.59L10.3 9.45l-7.72 7.72c-.78.78-.78 2.05 0 2.83L4 21.41c.39.39.9.59 1.41.59.51 0 1.02-.2 1.41-.59l7.78-7.78 2.81-2.81c.8-.78.8-2.07 0-2.86zM5.41 20L4 18.59l7.72-7.72 1.47 1.35L5.41 20z\"/>\n",
              "  </svg>\n",
              "      </button>\n",
              "      \n",
              "  <style>\n",
              "    .colab-df-container {\n",
              "      display:flex;\n",
              "      flex-wrap:wrap;\n",
              "      gap: 12px;\n",
              "    }\n",
              "\n",
              "    .colab-df-convert {\n",
              "      background-color: #E8F0FE;\n",
              "      border: none;\n",
              "      border-radius: 50%;\n",
              "      cursor: pointer;\n",
              "      display: none;\n",
              "      fill: #1967D2;\n",
              "      height: 32px;\n",
              "      padding: 0 0 0 0;\n",
              "      width: 32px;\n",
              "    }\n",
              "\n",
              "    .colab-df-convert:hover {\n",
              "      background-color: #E2EBFA;\n",
              "      box-shadow: 0px 1px 2px rgba(60, 64, 67, 0.3), 0px 1px 3px 1px rgba(60, 64, 67, 0.15);\n",
              "      fill: #174EA6;\n",
              "    }\n",
              "\n",
              "    [theme=dark] .colab-df-convert {\n",
              "      background-color: #3B4455;\n",
              "      fill: #D2E3FC;\n",
              "    }\n",
              "\n",
              "    [theme=dark] .colab-df-convert:hover {\n",
              "      background-color: #434B5C;\n",
              "      box-shadow: 0px 1px 3px 1px rgba(0, 0, 0, 0.15);\n",
              "      filter: drop-shadow(0px 1px 2px rgba(0, 0, 0, 0.3));\n",
              "      fill: #FFFFFF;\n",
              "    }\n",
              "  </style>\n",
              "\n",
              "      <script>\n",
              "        const buttonEl =\n",
              "          document.querySelector('#df-7bb7b53a-3bb5-4b83-bbc2-ac505828c285 button.colab-df-convert');\n",
              "        buttonEl.style.display =\n",
              "          google.colab.kernel.accessAllowed ? 'block' : 'none';\n",
              "\n",
              "        async function convertToInteractive(key) {\n",
              "          const element = document.querySelector('#df-7bb7b53a-3bb5-4b83-bbc2-ac505828c285');\n",
              "          const dataTable =\n",
              "            await google.colab.kernel.invokeFunction('convertToInteractive',\n",
              "                                                     [key], {});\n",
              "          if (!dataTable) return;\n",
              "\n",
              "          const docLinkHtml = 'Like what you see? Visit the ' +\n",
              "            '<a target=\"_blank\" href=https://colab.research.google.com/notebooks/data_table.ipynb>data table notebook</a>'\n",
              "            + ' to learn more about interactive tables.';\n",
              "          element.innerHTML = '';\n",
              "          dataTable['output_type'] = 'display_data';\n",
              "          await google.colab.output.renderOutput(dataTable, element);\n",
              "          const docLink = document.createElement('div');\n",
              "          docLink.innerHTML = docLinkHtml;\n",
              "          element.appendChild(docLink);\n",
              "        }\n",
              "      </script>\n",
              "    </div>\n",
              "  </div>\n",
              "  "
            ]
          },
          "metadata": {},
          "execution_count": 13
        }
      ]
    },
    {
      "cell_type": "code",
      "source": [
        "from sklearn import metrics\n",
        "print('MAE:', metrics.mean_absolute_error(y_test, y_pred))  \n",
        "print('MSE:', metrics.mean_squared_error(y_test, y_pred))  \n",
        "print('RMSE:', np.sqrt(metrics.mean_squared_error(y_test, y_pred)))\n",
        "print('VarScore:',metrics.explained_variance_score(y_test,y_pred))"
      ],
      "metadata": {
        "colab": {
          "base_uri": "https://localhost:8080/"
        },
        "id": "Vca0KaDgxhxY",
        "outputId": "729088ca-f42b-4489-97b9-2cf6a755f5de"
      },
      "execution_count": null,
      "outputs": [
        {
          "output_type": "stream",
          "name": "stdout",
          "text": [
            "MAE: 0.0018286967144077386\n",
            "MSE: 7.104543929547279e-06\n",
            "RMSE: 0.002665435035701917\n",
            "VarScore: 0.2937359764898744\n"
          ]
        }
      ]
    },
    {
      "cell_type": "code",
      "source": [
        "from keras.models import Sequential\n",
        "from keras.layers import Dense"
      ],
      "metadata": {
        "id": "4x0q3m0Gxmg6"
      },
      "execution_count": null,
      "outputs": []
    },
    {
      "cell_type": "code",
      "source": [
        "from sklearn.preprocessing import MinMaxScaler\n",
        "\n",
        "min_max_scaler = MinMaxScaler()\n",
        "X_scale= min_max_scaler.fit_transform(X)\n",
        "X_train, X_test, y_train, y_test = train_test_split(X_scale, y, test_size=0.33, random_state=101)\n",
        "print(X_train.shape, X_test.shape, y_train.shape,  y_test.shape)"
      ],
      "metadata": {
        "colab": {
          "base_uri": "https://localhost:8080/"
        },
        "id": "LOlCWd_jxrAQ",
        "outputId": "329c718b-6308-4d92-8d4f-e0c2ceeb866d"
      },
      "execution_count": null,
      "outputs": [
        {
          "output_type": "stream",
          "name": "stdout",
          "text": [
            "(10630, 8) (5236, 8) (10630,) (5236,)\n"
          ]
        }
      ]
    },
    {
      "cell_type": "code",
      "source": [
        "model = Sequential([\n",
        "    Dense(32, activation='relu', input_shape=(8,)),\n",
        "    Dense(32, activation='relu'),\n",
        "    Dense(32, activation='relu'),\n",
        "    Dense(1, activation='sigmoid'),\n",
        "])"
      ],
      "metadata": {
        "id": "F8AEXohhxyBo"
      },
      "execution_count": null,
      "outputs": []
    },
    {
      "cell_type": "code",
      "source": [
        "model.compile(optimizer='adam',\n",
        "              loss='mean_squared_error',\n",
        "              metrics=['mean_squared_error'])"
      ],
      "metadata": {
        "id": "6MOy29d2x0Ms"
      },
      "execution_count": null,
      "outputs": []
    },
    {
      "cell_type": "code",
      "source": [
        "history = model.fit(X_train, y_train,\n",
        "          batch_size=32, epochs=100,\n",
        "          validation_data=(X_test, y_test))"
      ],
      "metadata": {
        "colab": {
          "base_uri": "https://localhost:8080/"
        },
        "id": "OZhLl4cCyIu_",
        "outputId": "a18c7c81-006d-4f77-bd9e-31648551cf9c"
      },
      "execution_count": null,
      "outputs": [
        {
          "output_type": "stream",
          "name": "stdout",
          "text": [
            "Epoch 1/100\n",
            "333/333 [==============================] - 2s 3ms/step - loss: 0.0118 - mean_squared_error: 0.0118 - val_loss: 4.7071e-05 - val_mean_squared_error: 4.7071e-05\n",
            "Epoch 2/100\n",
            "333/333 [==============================] - 1s 3ms/step - loss: 3.6734e-05 - mean_squared_error: 3.6734e-05 - val_loss: 2.7688e-05 - val_mean_squared_error: 2.7688e-05\n",
            "Epoch 3/100\n",
            "333/333 [==============================] - 1s 3ms/step - loss: 2.8996e-05 - mean_squared_error: 2.8996e-05 - val_loss: 2.6072e-05 - val_mean_squared_error: 2.6072e-05\n",
            "Epoch 4/100\n",
            "333/333 [==============================] - 1s 2ms/step - loss: 2.7714e-05 - mean_squared_error: 2.7714e-05 - val_loss: 2.5677e-05 - val_mean_squared_error: 2.5677e-05\n",
            "Epoch 5/100\n",
            "333/333 [==============================] - 1s 3ms/step - loss: 2.7218e-05 - mean_squared_error: 2.7218e-05 - val_loss: 2.5413e-05 - val_mean_squared_error: 2.5413e-05\n",
            "Epoch 6/100\n",
            "333/333 [==============================] - 1s 2ms/step - loss: 2.6795e-05 - mean_squared_error: 2.6795e-05 - val_loss: 2.5051e-05 - val_mean_squared_error: 2.5051e-05\n",
            "Epoch 7/100\n",
            "333/333 [==============================] - 1s 2ms/step - loss: 2.6232e-05 - mean_squared_error: 2.6232e-05 - val_loss: 2.4285e-05 - val_mean_squared_error: 2.4285e-05\n",
            "Epoch 8/100\n",
            "333/333 [==============================] - 1s 3ms/step - loss: 2.4936e-05 - mean_squared_error: 2.4936e-05 - val_loss: 2.2198e-05 - val_mean_squared_error: 2.2198e-05\n",
            "Epoch 9/100\n",
            "333/333 [==============================] - 1s 2ms/step - loss: 2.2417e-05 - mean_squared_error: 2.2417e-05 - val_loss: 1.9907e-05 - val_mean_squared_error: 1.9907e-05\n",
            "Epoch 10/100\n",
            "333/333 [==============================] - 1s 3ms/step - loss: 1.9736e-05 - mean_squared_error: 1.9736e-05 - val_loss: 1.7126e-05 - val_mean_squared_error: 1.7126e-05\n",
            "Epoch 11/100\n",
            "333/333 [==============================] - 1s 3ms/step - loss: 1.6016e-05 - mean_squared_error: 1.6016e-05 - val_loss: 1.3134e-05 - val_mean_squared_error: 1.3134e-05\n",
            "Epoch 12/100\n",
            "333/333 [==============================] - 1s 3ms/step - loss: 1.1655e-05 - mean_squared_error: 1.1655e-05 - val_loss: 9.3810e-06 - val_mean_squared_error: 9.3810e-06\n",
            "Epoch 13/100\n",
            "333/333 [==============================] - 1s 2ms/step - loss: 8.5959e-06 - mean_squared_error: 8.5959e-06 - val_loss: 7.2891e-06 - val_mean_squared_error: 7.2891e-06\n",
            "Epoch 14/100\n",
            "333/333 [==============================] - 1s 3ms/step - loss: 7.1465e-06 - mean_squared_error: 7.1465e-06 - val_loss: 6.4384e-06 - val_mean_squared_error: 6.4384e-06\n",
            "Epoch 15/100\n",
            "333/333 [==============================] - 1s 2ms/step - loss: 6.5053e-06 - mean_squared_error: 6.5053e-06 - val_loss: 5.8860e-06 - val_mean_squared_error: 5.8860e-06\n",
            "Epoch 16/100\n",
            "333/333 [==============================] - 1s 2ms/step - loss: 6.0742e-06 - mean_squared_error: 6.0742e-06 - val_loss: 5.4905e-06 - val_mean_squared_error: 5.4905e-06\n",
            "Epoch 17/100\n",
            "333/333 [==============================] - 1s 2ms/step - loss: 5.7094e-06 - mean_squared_error: 5.7094e-06 - val_loss: 5.1692e-06 - val_mean_squared_error: 5.1692e-06\n",
            "Epoch 18/100\n",
            "333/333 [==============================] - 1s 3ms/step - loss: 5.4309e-06 - mean_squared_error: 5.4309e-06 - val_loss: 4.8781e-06 - val_mean_squared_error: 4.8781e-06\n",
            "Epoch 19/100\n",
            "333/333 [==============================] - 1s 2ms/step - loss: 5.1370e-06 - mean_squared_error: 5.1370e-06 - val_loss: 4.6535e-06 - val_mean_squared_error: 4.6535e-06\n",
            "Epoch 20/100\n",
            "333/333 [==============================] - 1s 3ms/step - loss: 4.9386e-06 - mean_squared_error: 4.9386e-06 - val_loss: 4.3794e-06 - val_mean_squared_error: 4.3794e-06\n",
            "Epoch 21/100\n",
            "333/333 [==============================] - 1s 2ms/step - loss: 4.7505e-06 - mean_squared_error: 4.7505e-06 - val_loss: 4.9535e-06 - val_mean_squared_error: 4.9535e-06\n",
            "Epoch 22/100\n",
            "333/333 [==============================] - 1s 3ms/step - loss: 4.5708e-06 - mean_squared_error: 4.5708e-06 - val_loss: 4.0011e-06 - val_mean_squared_error: 4.0011e-06\n",
            "Epoch 23/100\n",
            "333/333 [==============================] - 1s 2ms/step - loss: 4.3902e-06 - mean_squared_error: 4.3902e-06 - val_loss: 3.8734e-06 - val_mean_squared_error: 3.8734e-06\n",
            "Epoch 24/100\n",
            "333/333 [==============================] - 1s 3ms/step - loss: 4.2722e-06 - mean_squared_error: 4.2722e-06 - val_loss: 3.8076e-06 - val_mean_squared_error: 3.8076e-06\n",
            "Epoch 25/100\n",
            "333/333 [==============================] - 1s 2ms/step - loss: 4.1258e-06 - mean_squared_error: 4.1258e-06 - val_loss: 3.6946e-06 - val_mean_squared_error: 3.6946e-06\n",
            "Epoch 26/100\n",
            "333/333 [==============================] - 1s 2ms/step - loss: 4.0938e-06 - mean_squared_error: 4.0938e-06 - val_loss: 3.5868e-06 - val_mean_squared_error: 3.5868e-06\n",
            "Epoch 27/100\n",
            "333/333 [==============================] - 1s 2ms/step - loss: 3.9725e-06 - mean_squared_error: 3.9725e-06 - val_loss: 3.6033e-06 - val_mean_squared_error: 3.6033e-06\n",
            "Epoch 28/100\n",
            "333/333 [==============================] - 1s 2ms/step - loss: 3.8678e-06 - mean_squared_error: 3.8678e-06 - val_loss: 3.4802e-06 - val_mean_squared_error: 3.4802e-06\n",
            "Epoch 29/100\n",
            "333/333 [==============================] - 1s 2ms/step - loss: 3.8301e-06 - mean_squared_error: 3.8301e-06 - val_loss: 3.3212e-06 - val_mean_squared_error: 3.3212e-06\n",
            "Epoch 30/100\n",
            "333/333 [==============================] - 1s 2ms/step - loss: 3.6126e-06 - mean_squared_error: 3.6126e-06 - val_loss: 3.1690e-06 - val_mean_squared_error: 3.1690e-06\n",
            "Epoch 31/100\n",
            "333/333 [==============================] - 1s 2ms/step - loss: 3.4072e-06 - mean_squared_error: 3.4072e-06 - val_loss: 3.0977e-06 - val_mean_squared_error: 3.0977e-06\n",
            "Epoch 32/100\n",
            "333/333 [==============================] - 1s 3ms/step - loss: 3.3495e-06 - mean_squared_error: 3.3495e-06 - val_loss: 2.8950e-06 - val_mean_squared_error: 2.8950e-06\n",
            "Epoch 33/100\n",
            "333/333 [==============================] - 1s 3ms/step - loss: 3.2271e-06 - mean_squared_error: 3.2271e-06 - val_loss: 2.8662e-06 - val_mean_squared_error: 2.8662e-06\n",
            "Epoch 34/100\n",
            "333/333 [==============================] - 1s 2ms/step - loss: 3.1400e-06 - mean_squared_error: 3.1400e-06 - val_loss: 2.8337e-06 - val_mean_squared_error: 2.8337e-06\n",
            "Epoch 35/100\n",
            "333/333 [==============================] - 1s 3ms/step - loss: 3.1180e-06 - mean_squared_error: 3.1180e-06 - val_loss: 2.6448e-06 - val_mean_squared_error: 2.6448e-06\n",
            "Epoch 36/100\n",
            "333/333 [==============================] - 1s 2ms/step - loss: 3.0506e-06 - mean_squared_error: 3.0506e-06 - val_loss: 2.6908e-06 - val_mean_squared_error: 2.6908e-06\n",
            "Epoch 37/100\n",
            "333/333 [==============================] - 1s 2ms/step - loss: 3.0296e-06 - mean_squared_error: 3.0296e-06 - val_loss: 2.7583e-06 - val_mean_squared_error: 2.7583e-06\n",
            "Epoch 38/100\n",
            "333/333 [==============================] - 1s 3ms/step - loss: 2.9872e-06 - mean_squared_error: 2.9872e-06 - val_loss: 2.6442e-06 - val_mean_squared_error: 2.6442e-06\n",
            "Epoch 39/100\n",
            "333/333 [==============================] - 1s 2ms/step - loss: 3.0021e-06 - mean_squared_error: 3.0021e-06 - val_loss: 2.6640e-06 - val_mean_squared_error: 2.6640e-06\n",
            "Epoch 40/100\n",
            "333/333 [==============================] - 1s 3ms/step - loss: 2.8941e-06 - mean_squared_error: 2.8941e-06 - val_loss: 2.5489e-06 - val_mean_squared_error: 2.5489e-06\n",
            "Epoch 41/100\n",
            "333/333 [==============================] - 1s 2ms/step - loss: 2.8867e-06 - mean_squared_error: 2.8867e-06 - val_loss: 2.5636e-06 - val_mean_squared_error: 2.5636e-06\n",
            "Epoch 42/100\n",
            "333/333 [==============================] - 1s 2ms/step - loss: 2.8468e-06 - mean_squared_error: 2.8468e-06 - val_loss: 2.6927e-06 - val_mean_squared_error: 2.6927e-06\n",
            "Epoch 43/100\n",
            "333/333 [==============================] - 1s 3ms/step - loss: 2.8019e-06 - mean_squared_error: 2.8019e-06 - val_loss: 2.5253e-06 - val_mean_squared_error: 2.5253e-06\n",
            "Epoch 44/100\n",
            "333/333 [==============================] - 1s 3ms/step - loss: 2.7501e-06 - mean_squared_error: 2.7501e-06 - val_loss: 2.7244e-06 - val_mean_squared_error: 2.7244e-06\n",
            "Epoch 45/100\n",
            "333/333 [==============================] - 1s 3ms/step - loss: 2.7395e-06 - mean_squared_error: 2.7395e-06 - val_loss: 2.6277e-06 - val_mean_squared_error: 2.6277e-06\n",
            "Epoch 46/100\n",
            "333/333 [==============================] - 1s 3ms/step - loss: 2.6493e-06 - mean_squared_error: 2.6493e-06 - val_loss: 2.4983e-06 - val_mean_squared_error: 2.4983e-06\n",
            "Epoch 47/100\n",
            "333/333 [==============================] - 1s 3ms/step - loss: 2.7582e-06 - mean_squared_error: 2.7582e-06 - val_loss: 2.3430e-06 - val_mean_squared_error: 2.3430e-06\n",
            "Epoch 48/100\n",
            "333/333 [==============================] - 1s 3ms/step - loss: 2.6866e-06 - mean_squared_error: 2.6866e-06 - val_loss: 3.0731e-06 - val_mean_squared_error: 3.0731e-06\n",
            "Epoch 49/100\n",
            "333/333 [==============================] - 1s 3ms/step - loss: 2.6792e-06 - mean_squared_error: 2.6792e-06 - val_loss: 2.4956e-06 - val_mean_squared_error: 2.4956e-06\n",
            "Epoch 50/100\n",
            "333/333 [==============================] - 1s 2ms/step - loss: 2.6300e-06 - mean_squared_error: 2.6300e-06 - val_loss: 2.5335e-06 - val_mean_squared_error: 2.5335e-06\n",
            "Epoch 51/100\n",
            "333/333 [==============================] - 1s 3ms/step - loss: 2.6485e-06 - mean_squared_error: 2.6485e-06 - val_loss: 2.4071e-06 - val_mean_squared_error: 2.4071e-06\n",
            "Epoch 52/100\n",
            "333/333 [==============================] - 1s 3ms/step - loss: 2.5661e-06 - mean_squared_error: 2.5661e-06 - val_loss: 2.5005e-06 - val_mean_squared_error: 2.5005e-06\n",
            "Epoch 53/100\n",
            "333/333 [==============================] - 1s 2ms/step - loss: 2.5872e-06 - mean_squared_error: 2.5872e-06 - val_loss: 3.6027e-06 - val_mean_squared_error: 3.6027e-06\n",
            "Epoch 54/100\n",
            "333/333 [==============================] - 1s 3ms/step - loss: 2.5776e-06 - mean_squared_error: 2.5776e-06 - val_loss: 2.5988e-06 - val_mean_squared_error: 2.5988e-06\n",
            "Epoch 55/100\n",
            "333/333 [==============================] - 1s 2ms/step - loss: 2.5963e-06 - mean_squared_error: 2.5963e-06 - val_loss: 2.2900e-06 - val_mean_squared_error: 2.2900e-06\n",
            "Epoch 56/100\n",
            "333/333 [==============================] - 1s 2ms/step - loss: 2.5583e-06 - mean_squared_error: 2.5583e-06 - val_loss: 2.3783e-06 - val_mean_squared_error: 2.3783e-06\n",
            "Epoch 57/100\n",
            "333/333 [==============================] - 1s 3ms/step - loss: 2.5115e-06 - mean_squared_error: 2.5115e-06 - val_loss: 2.2664e-06 - val_mean_squared_error: 2.2664e-06\n",
            "Epoch 58/100\n",
            "333/333 [==============================] - 1s 3ms/step - loss: 2.4685e-06 - mean_squared_error: 2.4685e-06 - val_loss: 2.3037e-06 - val_mean_squared_error: 2.3037e-06\n",
            "Epoch 59/100\n",
            "333/333 [==============================] - 1s 2ms/step - loss: 2.4192e-06 - mean_squared_error: 2.4192e-06 - val_loss: 2.2543e-06 - val_mean_squared_error: 2.2543e-06\n",
            "Epoch 60/100\n",
            "333/333 [==============================] - 1s 3ms/step - loss: 2.4461e-06 - mean_squared_error: 2.4461e-06 - val_loss: 2.2009e-06 - val_mean_squared_error: 2.2009e-06\n",
            "Epoch 61/100\n",
            "333/333 [==============================] - 1s 3ms/step - loss: 2.3748e-06 - mean_squared_error: 2.3748e-06 - val_loss: 2.4339e-06 - val_mean_squared_error: 2.4339e-06\n",
            "Epoch 62/100\n",
            "333/333 [==============================] - 1s 3ms/step - loss: 2.3929e-06 - mean_squared_error: 2.3929e-06 - val_loss: 2.2615e-06 - val_mean_squared_error: 2.2615e-06\n",
            "Epoch 63/100\n",
            "333/333 [==============================] - 1s 3ms/step - loss: 2.4010e-06 - mean_squared_error: 2.4010e-06 - val_loss: 2.2585e-06 - val_mean_squared_error: 2.2585e-06\n",
            "Epoch 64/100\n",
            "333/333 [==============================] - 1s 2ms/step - loss: 2.3753e-06 - mean_squared_error: 2.3753e-06 - val_loss: 2.0842e-06 - val_mean_squared_error: 2.0842e-06\n",
            "Epoch 65/100\n",
            "333/333 [==============================] - 1s 3ms/step - loss: 2.3594e-06 - mean_squared_error: 2.3594e-06 - val_loss: 2.2329e-06 - val_mean_squared_error: 2.2329e-06\n",
            "Epoch 66/100\n",
            "333/333 [==============================] - 1s 3ms/step - loss: 2.2805e-06 - mean_squared_error: 2.2805e-06 - val_loss: 3.1756e-06 - val_mean_squared_error: 3.1756e-06\n",
            "Epoch 67/100\n",
            "333/333 [==============================] - 1s 3ms/step - loss: 2.3477e-06 - mean_squared_error: 2.3477e-06 - val_loss: 2.3583e-06 - val_mean_squared_error: 2.3583e-06\n",
            "Epoch 68/100\n",
            "333/333 [==============================] - 1s 3ms/step - loss: 2.2738e-06 - mean_squared_error: 2.2738e-06 - val_loss: 2.0847e-06 - val_mean_squared_error: 2.0847e-06\n",
            "Epoch 69/100\n",
            "333/333 [==============================] - 1s 3ms/step - loss: 2.2446e-06 - mean_squared_error: 2.2446e-06 - val_loss: 2.1824e-06 - val_mean_squared_error: 2.1824e-06\n",
            "Epoch 70/100\n",
            "333/333 [==============================] - 1s 3ms/step - loss: 2.1964e-06 - mean_squared_error: 2.1964e-06 - val_loss: 2.1467e-06 - val_mean_squared_error: 2.1467e-06\n",
            "Epoch 71/100\n",
            "333/333 [==============================] - 1s 2ms/step - loss: 2.2965e-06 - mean_squared_error: 2.2965e-06 - val_loss: 2.9014e-06 - val_mean_squared_error: 2.9014e-06\n",
            "Epoch 72/100\n",
            "333/333 [==============================] - 1s 3ms/step - loss: 2.3528e-06 - mean_squared_error: 2.3528e-06 - val_loss: 3.4387e-06 - val_mean_squared_error: 3.4387e-06\n",
            "Epoch 73/100\n",
            "333/333 [==============================] - 1s 3ms/step - loss: 2.2735e-06 - mean_squared_error: 2.2735e-06 - val_loss: 2.0448e-06 - val_mean_squared_error: 2.0448e-06\n",
            "Epoch 74/100\n",
            "333/333 [==============================] - 1s 2ms/step - loss: 2.2254e-06 - mean_squared_error: 2.2254e-06 - val_loss: 2.0264e-06 - val_mean_squared_error: 2.0264e-06\n",
            "Epoch 75/100\n",
            "333/333 [==============================] - 1s 2ms/step - loss: 2.1696e-06 - mean_squared_error: 2.1696e-06 - val_loss: 2.0980e-06 - val_mean_squared_error: 2.0980e-06\n",
            "Epoch 76/100\n",
            "333/333 [==============================] - 1s 2ms/step - loss: 2.2251e-06 - mean_squared_error: 2.2251e-06 - val_loss: 2.3444e-06 - val_mean_squared_error: 2.3444e-06\n",
            "Epoch 77/100\n",
            "333/333 [==============================] - 1s 2ms/step - loss: 2.1815e-06 - mean_squared_error: 2.1815e-06 - val_loss: 2.0591e-06 - val_mean_squared_error: 2.0591e-06\n",
            "Epoch 78/100\n",
            "333/333 [==============================] - 1s 3ms/step - loss: 2.2229e-06 - mean_squared_error: 2.2229e-06 - val_loss: 2.0560e-06 - val_mean_squared_error: 2.0560e-06\n",
            "Epoch 79/100\n",
            "333/333 [==============================] - 1s 2ms/step - loss: 2.1529e-06 - mean_squared_error: 2.1529e-06 - val_loss: 2.1626e-06 - val_mean_squared_error: 2.1626e-06\n",
            "Epoch 80/100\n",
            "333/333 [==============================] - 1s 2ms/step - loss: 2.1908e-06 - mean_squared_error: 2.1908e-06 - val_loss: 2.1947e-06 - val_mean_squared_error: 2.1947e-06\n",
            "Epoch 81/100\n",
            "333/333 [==============================] - 1s 3ms/step - loss: 2.1722e-06 - mean_squared_error: 2.1722e-06 - val_loss: 2.1507e-06 - val_mean_squared_error: 2.1507e-06\n",
            "Epoch 82/100\n",
            "333/333 [==============================] - 1s 3ms/step - loss: 2.2280e-06 - mean_squared_error: 2.2280e-06 - val_loss: 2.1145e-06 - val_mean_squared_error: 2.1145e-06\n",
            "Epoch 83/100\n",
            "333/333 [==============================] - 1s 2ms/step - loss: 2.1537e-06 - mean_squared_error: 2.1537e-06 - val_loss: 2.0512e-06 - val_mean_squared_error: 2.0512e-06\n",
            "Epoch 84/100\n",
            "333/333 [==============================] - 1s 2ms/step - loss: 2.1386e-06 - mean_squared_error: 2.1386e-06 - val_loss: 1.9505e-06 - val_mean_squared_error: 1.9505e-06\n",
            "Epoch 85/100\n",
            "333/333 [==============================] - 1s 3ms/step - loss: 2.1647e-06 - mean_squared_error: 2.1647e-06 - val_loss: 2.0534e-06 - val_mean_squared_error: 2.0534e-06\n",
            "Epoch 86/100\n",
            "333/333 [==============================] - 1s 3ms/step - loss: 2.1723e-06 - mean_squared_error: 2.1723e-06 - val_loss: 1.9266e-06 - val_mean_squared_error: 1.9266e-06\n",
            "Epoch 87/100\n",
            "333/333 [==============================] - 1s 3ms/step - loss: 2.0823e-06 - mean_squared_error: 2.0823e-06 - val_loss: 2.1464e-06 - val_mean_squared_error: 2.1464e-06\n",
            "Epoch 88/100\n",
            "333/333 [==============================] - 1s 2ms/step - loss: 2.1230e-06 - mean_squared_error: 2.1230e-06 - val_loss: 2.2576e-06 - val_mean_squared_error: 2.2576e-06\n",
            "Epoch 89/100\n",
            "333/333 [==============================] - 1s 2ms/step - loss: 2.1187e-06 - mean_squared_error: 2.1187e-06 - val_loss: 3.0365e-06 - val_mean_squared_error: 3.0365e-06\n",
            "Epoch 90/100\n",
            "333/333 [==============================] - 1s 2ms/step - loss: 2.1817e-06 - mean_squared_error: 2.1817e-06 - val_loss: 2.0434e-06 - val_mean_squared_error: 2.0434e-06\n",
            "Epoch 91/100\n",
            "333/333 [==============================] - 1s 3ms/step - loss: 2.0634e-06 - mean_squared_error: 2.0634e-06 - val_loss: 2.1091e-06 - val_mean_squared_error: 2.1091e-06\n",
            "Epoch 92/100\n",
            "333/333 [==============================] - 1s 3ms/step - loss: 2.1158e-06 - mean_squared_error: 2.1158e-06 - val_loss: 1.9338e-06 - val_mean_squared_error: 1.9338e-06\n",
            "Epoch 93/100\n",
            "333/333 [==============================] - 1s 3ms/step - loss: 2.0567e-06 - mean_squared_error: 2.0567e-06 - val_loss: 2.3393e-06 - val_mean_squared_error: 2.3393e-06\n",
            "Epoch 94/100\n",
            "333/333 [==============================] - 1s 2ms/step - loss: 2.0418e-06 - mean_squared_error: 2.0418e-06 - val_loss: 2.1258e-06 - val_mean_squared_error: 2.1258e-06\n",
            "Epoch 95/100\n",
            "333/333 [==============================] - 1s 3ms/step - loss: 2.0492e-06 - mean_squared_error: 2.0492e-06 - val_loss: 2.2548e-06 - val_mean_squared_error: 2.2548e-06\n",
            "Epoch 96/100\n",
            "333/333 [==============================] - 1s 2ms/step - loss: 2.1120e-06 - mean_squared_error: 2.1120e-06 - val_loss: 2.2062e-06 - val_mean_squared_error: 2.2062e-06\n",
            "Epoch 97/100\n",
            "333/333 [==============================] - 1s 3ms/step - loss: 2.0856e-06 - mean_squared_error: 2.0856e-06 - val_loss: 2.0892e-06 - val_mean_squared_error: 2.0892e-06\n",
            "Epoch 98/100\n",
            "333/333 [==============================] - 1s 3ms/step - loss: 2.0268e-06 - mean_squared_error: 2.0268e-06 - val_loss: 1.9596e-06 - val_mean_squared_error: 1.9596e-06\n",
            "Epoch 99/100\n",
            "333/333 [==============================] - 1s 2ms/step - loss: 2.0791e-06 - mean_squared_error: 2.0791e-06 - val_loss: 1.9849e-06 - val_mean_squared_error: 1.9849e-06\n",
            "Epoch 100/100\n",
            "333/333 [==============================] - 1s 3ms/step - loss: 1.9983e-06 - mean_squared_error: 1.9983e-06 - val_loss: 2.0623e-06 - val_mean_squared_error: 2.0623e-06\n"
          ]
        }
      ]
    },
    {
      "cell_type": "code",
      "source": [
        "predict = model.predict(X_test, batch_size=32) \n",
        "pred = predict.flatten()\n",
        "pred = pd.DataFrame({'Actual':y_test, 'Predicted':pred})\n",
        "#pred1 = pred.head(10)\n",
        "#print(pred)\n",
        "pred.to_csv('NNLatencyAll.csv')\n"
      ],
      "metadata": {
        "id": "C4tmHvDmx-5X"
      },
      "execution_count": null,
      "outputs": []
    }
  ]
}